{
 "cells": [
  {
   "cell_type": "markdown",
   "id": "b3f23cd3-78a9-4653-93dc-63d46d521cc4",
   "metadata": {},
   "source": [
    "## MSDS 610 - EDA Code Presentation"
   ]
  },
  {
   "cell_type": "code",
   "execution_count": 1,
   "id": "7e91dd80-3231-4d14-9bdb-344c64f768a2",
   "metadata": {
    "id": "7e91dd80-3231-4d14-9bdb-344c64f768a2"
   },
   "outputs": [],
   "source": [
    "import pandas as pd\n",
    "import matplotlib.pyplot as plt\n",
    "import numpy as np\n",
    "import seaborn as sns\n",
    "import scipy.stats as stats\n",
    "import matplotlib.image as mpimg\n",
    "from PIL import Image\n",
    "import operator\n",
    "from wordcloud import WordCloud, ImageColorGenerator\n",
    "from wordcloud import STOPWORDS\n",
    "from PIL import Image"
   ]
  },
  {
   "cell_type": "markdown",
   "id": "1cacdf48",
   "metadata": {},
   "source": [
    "# The Data, this is sourced from open AirBnb"
   ]
  },
  {
   "cell_type": "markdown",
   "id": "15b256ef",
   "metadata": {},
   "source": [
    "<img src=\"./airBnbSpreadsheet.png\" alt=\"Alternative text\" />"
   ]
  },
  {
   "cell_type": "code",
   "execution_count": 2,
   "id": "aac0cf07-1567-4107-a28c-59533551dc96",
   "metadata": {
    "colab": {
     "base_uri": "https://localhost:8080/"
    },
    "id": "aac0cf07-1567-4107-a28c-59533551dc96",
    "outputId": "adf72aa1-7af4-47a7-c960-18a119ecc85d"
   },
   "outputs": [
    {
     "name": "stderr",
     "output_type": "stream",
     "text": [
      "/var/folders/z9/xt06stc96tq72g3x5dtf89m80000gn/T/ipykernel_10298/1754490130.py:1: DtypeWarning: Columns (25) have mixed types. Specify dtype option on import or set low_memory=False.\n",
      "  df = pd.read_csv(\"Airbnb_Open_Data.csv\")\n"
     ]
    },
    {
     "data": {
      "text/html": [
       "<div>\n",
       "<style scoped>\n",
       "    .dataframe tbody tr th:only-of-type {\n",
       "        vertical-align: middle;\n",
       "    }\n",
       "\n",
       "    .dataframe tbody tr th {\n",
       "        vertical-align: top;\n",
       "    }\n",
       "\n",
       "    .dataframe thead th {\n",
       "        text-align: right;\n",
       "    }\n",
       "</style>\n",
       "<table border=\"1\" class=\"dataframe\">\n",
       "  <thead>\n",
       "    <tr style=\"text-align: right;\">\n",
       "      <th></th>\n",
       "      <th>id</th>\n",
       "      <th>NAME</th>\n",
       "      <th>host id</th>\n",
       "      <th>host_identity_verified</th>\n",
       "      <th>host name</th>\n",
       "      <th>neighbourhood group</th>\n",
       "      <th>neighbourhood</th>\n",
       "      <th>lat</th>\n",
       "      <th>long</th>\n",
       "      <th>country</th>\n",
       "      <th>...</th>\n",
       "      <th>service fee</th>\n",
       "      <th>minimum nights</th>\n",
       "      <th>number of reviews</th>\n",
       "      <th>last review</th>\n",
       "      <th>reviews per month</th>\n",
       "      <th>review rate number</th>\n",
       "      <th>calculated host listings count</th>\n",
       "      <th>availability 365</th>\n",
       "      <th>house_rules</th>\n",
       "      <th>license</th>\n",
       "    </tr>\n",
       "  </thead>\n",
       "  <tbody>\n",
       "    <tr>\n",
       "      <th>0</th>\n",
       "      <td>1001254</td>\n",
       "      <td>Clean &amp; quiet apt home by the park</td>\n",
       "      <td>80014485718</td>\n",
       "      <td>unconfirmed</td>\n",
       "      <td>Madaline</td>\n",
       "      <td>Brooklyn</td>\n",
       "      <td>Kensington</td>\n",
       "      <td>40.64749</td>\n",
       "      <td>-73.97237</td>\n",
       "      <td>United States</td>\n",
       "      <td>...</td>\n",
       "      <td>$193</td>\n",
       "      <td>10.0</td>\n",
       "      <td>9.0</td>\n",
       "      <td>10/19/2021</td>\n",
       "      <td>0.21</td>\n",
       "      <td>4.0</td>\n",
       "      <td>6.0</td>\n",
       "      <td>286.0</td>\n",
       "      <td>Clean up and treat the home the way you'd like...</td>\n",
       "      <td>NaN</td>\n",
       "    </tr>\n",
       "    <tr>\n",
       "      <th>1</th>\n",
       "      <td>1002102</td>\n",
       "      <td>Skylit Midtown Castle</td>\n",
       "      <td>52335172823</td>\n",
       "      <td>verified</td>\n",
       "      <td>Jenna</td>\n",
       "      <td>Manhattan</td>\n",
       "      <td>Midtown</td>\n",
       "      <td>40.75362</td>\n",
       "      <td>-73.98377</td>\n",
       "      <td>United States</td>\n",
       "      <td>...</td>\n",
       "      <td>$28</td>\n",
       "      <td>30.0</td>\n",
       "      <td>45.0</td>\n",
       "      <td>5/21/2022</td>\n",
       "      <td>0.38</td>\n",
       "      <td>4.0</td>\n",
       "      <td>2.0</td>\n",
       "      <td>228.0</td>\n",
       "      <td>Pet friendly but please confirm with me if the...</td>\n",
       "      <td>NaN</td>\n",
       "    </tr>\n",
       "    <tr>\n",
       "      <th>2</th>\n",
       "      <td>1002403</td>\n",
       "      <td>THE VILLAGE OF HARLEM....NEW YORK !</td>\n",
       "      <td>78829239556</td>\n",
       "      <td>NaN</td>\n",
       "      <td>Elise</td>\n",
       "      <td>Manhattan</td>\n",
       "      <td>Harlem</td>\n",
       "      <td>40.80902</td>\n",
       "      <td>-73.94190</td>\n",
       "      <td>United States</td>\n",
       "      <td>...</td>\n",
       "      <td>$124</td>\n",
       "      <td>3.0</td>\n",
       "      <td>0.0</td>\n",
       "      <td>NaN</td>\n",
       "      <td>NaN</td>\n",
       "      <td>5.0</td>\n",
       "      <td>1.0</td>\n",
       "      <td>352.0</td>\n",
       "      <td>I encourage you to use my kitchen, cooking and...</td>\n",
       "      <td>NaN</td>\n",
       "    </tr>\n",
       "    <tr>\n",
       "      <th>3</th>\n",
       "      <td>1002755</td>\n",
       "      <td>NaN</td>\n",
       "      <td>85098326012</td>\n",
       "      <td>unconfirmed</td>\n",
       "      <td>Garry</td>\n",
       "      <td>Brooklyn</td>\n",
       "      <td>Clinton Hill</td>\n",
       "      <td>40.68514</td>\n",
       "      <td>-73.95976</td>\n",
       "      <td>United States</td>\n",
       "      <td>...</td>\n",
       "      <td>$74</td>\n",
       "      <td>30.0</td>\n",
       "      <td>270.0</td>\n",
       "      <td>7/5/2019</td>\n",
       "      <td>4.64</td>\n",
       "      <td>4.0</td>\n",
       "      <td>1.0</td>\n",
       "      <td>322.0</td>\n",
       "      <td>NaN</td>\n",
       "      <td>NaN</td>\n",
       "    </tr>\n",
       "    <tr>\n",
       "      <th>4</th>\n",
       "      <td>1003689</td>\n",
       "      <td>Entire Apt: Spacious Studio/Loft by central park</td>\n",
       "      <td>92037596077</td>\n",
       "      <td>verified</td>\n",
       "      <td>Lyndon</td>\n",
       "      <td>Manhattan</td>\n",
       "      <td>East Harlem</td>\n",
       "      <td>40.79851</td>\n",
       "      <td>-73.94399</td>\n",
       "      <td>United States</td>\n",
       "      <td>...</td>\n",
       "      <td>$41</td>\n",
       "      <td>10.0</td>\n",
       "      <td>9.0</td>\n",
       "      <td>11/19/2018</td>\n",
       "      <td>0.10</td>\n",
       "      <td>3.0</td>\n",
       "      <td>1.0</td>\n",
       "      <td>289.0</td>\n",
       "      <td>Please no smoking in the house, porch or on th...</td>\n",
       "      <td>NaN</td>\n",
       "    </tr>\n",
       "  </tbody>\n",
       "</table>\n",
       "<p>5 rows × 26 columns</p>\n",
       "</div>"
      ],
      "text/plain": [
       "        id                                              NAME      host id  \\\n",
       "0  1001254                Clean & quiet apt home by the park  80014485718   \n",
       "1  1002102                             Skylit Midtown Castle  52335172823   \n",
       "2  1002403               THE VILLAGE OF HARLEM....NEW YORK !  78829239556   \n",
       "3  1002755                                               NaN  85098326012   \n",
       "4  1003689  Entire Apt: Spacious Studio/Loft by central park  92037596077   \n",
       "\n",
       "  host_identity_verified host name neighbourhood group neighbourhood  \\\n",
       "0            unconfirmed  Madaline            Brooklyn    Kensington   \n",
       "1               verified     Jenna           Manhattan       Midtown   \n",
       "2                    NaN     Elise           Manhattan        Harlem   \n",
       "3            unconfirmed     Garry            Brooklyn  Clinton Hill   \n",
       "4               verified    Lyndon           Manhattan   East Harlem   \n",
       "\n",
       "        lat      long        country  ... service fee minimum nights  \\\n",
       "0  40.64749 -73.97237  United States  ...       $193            10.0   \n",
       "1  40.75362 -73.98377  United States  ...        $28            30.0   \n",
       "2  40.80902 -73.94190  United States  ...       $124             3.0   \n",
       "3  40.68514 -73.95976  United States  ...        $74            30.0   \n",
       "4  40.79851 -73.94399  United States  ...        $41            10.0   \n",
       "\n",
       "  number of reviews last review  reviews per month review rate number  \\\n",
       "0               9.0  10/19/2021               0.21                4.0   \n",
       "1              45.0   5/21/2022               0.38                4.0   \n",
       "2               0.0         NaN                NaN                5.0   \n",
       "3             270.0    7/5/2019               4.64                4.0   \n",
       "4               9.0  11/19/2018               0.10                3.0   \n",
       "\n",
       "  calculated host listings count  availability 365  \\\n",
       "0                            6.0             286.0   \n",
       "1                            2.0             228.0   \n",
       "2                            1.0             352.0   \n",
       "3                            1.0             322.0   \n",
       "4                            1.0             289.0   \n",
       "\n",
       "                                         house_rules license  \n",
       "0  Clean up and treat the home the way you'd like...     NaN  \n",
       "1  Pet friendly but please confirm with me if the...     NaN  \n",
       "2  I encourage you to use my kitchen, cooking and...     NaN  \n",
       "3                                                NaN     NaN  \n",
       "4  Please no smoking in the house, porch or on th...     NaN  \n",
       "\n",
       "[5 rows x 26 columns]"
      ]
     },
     "execution_count": 2,
     "metadata": {},
     "output_type": "execute_result"
    }
   ],
   "source": [
    "df = pd.read_csv(\"Airbnb_Open_Data.csv\")\n",
    "df.head()"
   ]
  },
  {
   "cell_type": "markdown",
   "id": "7a987794-bbf9-4de3-8eb0-8ef59cff0abe",
   "metadata": {
    "id": "7a987794-bbf9-4de3-8eb0-8ef59cff0abe"
   },
   "source": [
    "# <div style=\"color:lime\">1. Data Cleaning</div>"
   ]
  },
  {
   "cell_type": "markdown",
   "id": "317425c6-e675-4c56-8d50-03ae006eda8a",
   "metadata": {
    "id": "317425c6-e675-4c56-8d50-03ae006eda8a"
   },
   "source": [
    "## 1.1 Delete duplicate keys"
   ]
  },
  {
   "cell_type": "markdown",
   "id": "f2a19e33-3463-4c83-9571-0a09366359fa",
   "metadata": {
    "id": "f2a19e33-3463-4c83-9571-0a09366359fa"
   },
   "source": [
    "There are some duplicating observation exists, so we have to take it out before proceeding data visualization."
   ]
  },
  {
   "cell_type": "code",
   "execution_count": 3,
   "id": "58bff8db-a6a8-4b6d-bef2-472d299d2319",
   "metadata": {
    "colab": {
     "base_uri": "https://localhost:8080/"
    },
    "id": "58bff8db-a6a8-4b6d-bef2-472d299d2319",
    "outputId": "738740c9-cbed-4c34-ddab-f9a684116875"
   },
   "outputs": [
    {
     "data": {
      "text/plain": [
       "(102058, 26)"
      ]
     },
     "execution_count": 3,
     "metadata": {},
     "output_type": "execute_result"
    }
   ],
   "source": [
    "# 1. Delete duplicate keys\n",
    "# delete duplicate ids\n",
    "dups_keys = [i[0] for i in zip(df['id'].value_counts().keys(),df['id'].value_counts().values) if i[1]>1]\n",
    "df.drop_duplicates(keep='first', inplace=True)\n",
    "df.reset_index(inplace=True)\n",
    "df.drop(columns='index',inplace=True)\n",
    "df.shape"
   ]
  },
  {
   "cell_type": "markdown",
   "id": "fd3e05a5-0e95-4598-b5e2-9525a1859fad",
   "metadata": {
    "id": "fd3e05a5-0e95-4598-b5e2-9525a1859fad"
   },
   "source": [
    "# <div style=\"color:LimeGreen\">Data type changes</div>"
   ]
  },
  {
   "cell_type": "markdown",
   "id": "e84eed55-0403-44f3-9e8e-d519f08a028f",
   "metadata": {
    "id": "e84eed55-0403-44f3-9e8e-d519f08a028f"
   },
   "source": [
    "'price' and 'service fee' were typed as object which are not correct. We are going to take out '$' and ',' and convert it to int value."
   ]
  },
  {
   "cell_type": "code",
   "execution_count": 4,
   "id": "0af0e425-acd6-43cd-874e-42a5e790aafb",
   "metadata": {
    "colab": {
     "base_uri": "https://localhost:8080/"
    },
    "id": "0af0e425-acd6-43cd-874e-42a5e790aafb",
    "outputId": "eff532a4-207a-4576-85bf-05445783b7d1"
   },
   "outputs": [
    {
     "name": "stdout",
     "output_type": "stream",
     "text": [
      "<class 'pandas.core.frame.DataFrame'>\n",
      "RangeIndex: 102058 entries, 0 to 102057\n",
      "Data columns (total 26 columns):\n",
      " #   Column                          Non-Null Count   Dtype  \n",
      "---  ------                          --------------   -----  \n",
      " 0   id                              102058 non-null  int64  \n",
      " 1   NAME                            101808 non-null  object \n",
      " 2   host id                         102058 non-null  int64  \n",
      " 3   host_identity_verified          101769 non-null  object \n",
      " 4   host name                       101654 non-null  object \n",
      " 5   neighbourhood group             102029 non-null  object \n",
      " 6   neighbourhood                   102042 non-null  object \n",
      " 7   lat                             102050 non-null  float64\n",
      " 8   long                            102050 non-null  float64\n",
      " 9   country                         101526 non-null  object \n",
      " 10  country code                    101927 non-null  object \n",
      " 11  instant_bookable                101953 non-null  object \n",
      " 12  cancellation_policy             101982 non-null  object \n",
      " 13  room type                       102058 non-null  object \n",
      " 14  Construction year               101844 non-null  float64\n",
      " 15  price                           102058 non-null  int64  \n",
      " 16  service fee                     102058 non-null  int64  \n",
      " 17  minimum nights                  101658 non-null  float64\n",
      " 18  number of reviews               101875 non-null  float64\n",
      " 19  last review                     86226 non-null   object \n",
      " 20  reviews per month               86240 non-null   float64\n",
      " 21  review rate number              101739 non-null  float64\n",
      " 22  calculated host listings count  101739 non-null  float64\n",
      " 23  availability 365                101610 non-null  float64\n",
      " 24  house_rules                     50216 non-null   object \n",
      " 25  license                         2 non-null       object \n",
      "dtypes: float64(9), int64(4), object(13)\n",
      "memory usage: 20.2+ MB\n"
     ]
    }
   ],
   "source": [
    "# 2. Data type changes\n",
    "\n",
    "## price ##\n",
    "df['price'] = df['price'].str.replace(\"$\",\"\").str.replace(\",\",\"\")\n",
    "df['price'] = df['price'].fillna(0).astype(int)\n",
    "\n",
    "# get median value\n",
    "price_median = df.loc[df['price'] != 0, 'price'].median()\n",
    "\n",
    "df.loc[df['price'] == 0, 'price'] = price_median\n",
    "\n",
    "\n",
    "## service fee ##\n",
    "df['service fee'] = df['service fee'].str.replace(\"$\",\"\").str.replace(\",\",\"\")\n",
    "df['service fee'] = df['service fee'].fillna(0).astype(int)\n",
    "\n",
    "# get median value\n",
    "service_fee_median = df.loc[df['service fee'] != 0, 'service fee'].median()\n",
    "\n",
    "df.loc[df['service fee'] == 0, 'service fee'] = service_fee_median\n",
    "df.info()"
   ]
  },
  {
   "cell_type": "markdown",
   "id": "8b60a056-00cc-41dd-80fc-65f9bf8b4a07",
   "metadata": {
    "id": "8b60a056-00cc-41dd-80fc-65f9bf8b4a07"
   },
   "source": [
    "Now, 'price' and 'service fee' are type 'int'."
   ]
  },
  {
   "cell_type": "markdown",
   "id": "fd33a16c-8d12-4325-a90b-5fec108d536d",
   "metadata": {
    "id": "fd33a16c-8d12-4325-a90b-5fec108d536d"
   },
   "source": [
    "## Update mis-typed value"
   ]
  },
  {
   "cell_type": "markdown",
   "id": "f1dd85b1-da32-4f33-9034-0c94f6f76748",
   "metadata": {
    "id": "f1dd85b1-da32-4f33-9034-0c94f6f76748"
   },
   "source": [
    "There are some mis-typed values. We are going to check variables: neighbourhood group, reviews per month, minimum nights, and availability 365."
   ]
  },
  {
   "cell_type": "code",
   "execution_count": 5,
   "id": "07ba12f5-6da1-4912-adaf-f58c268a6399",
   "metadata": {
    "colab": {
     "base_uri": "https://localhost:8080/"
    },
    "id": "07ba12f5-6da1-4912-adaf-f58c268a6399",
    "outputId": "20255a97-03b3-4946-d8d2-20755fa09a5f"
   },
   "outputs": [
    {
     "data": {
      "text/plain": [
       "neighbourhood group\n",
       "Manhattan        43558\n",
       "Brooklyn         41631\n",
       "Queens           13197\n",
       "Bronx             2694\n",
       "Staten Island      949\n",
       "Name: count, dtype: int64"
      ]
     },
     "execution_count": 5,
     "metadata": {},
     "output_type": "execute_result"
    }
   ],
   "source": [
    "# 1. neighbourhood group\n",
    "df['neighbourhood group'] = df['neighbourhood group'].replace(['brookln'], 'Brooklyn').replace(['manhatan'], 'Manhattan')\n",
    "df['neighbourhood group'].value_counts()"
   ]
  },
  {
   "cell_type": "code",
   "execution_count": 6,
   "id": "253b0062-4690-4f13-9b0f-7445a361ff9c",
   "metadata": {
    "colab": {
     "base_uri": "https://localhost:8080/"
    },
    "id": "253b0062-4690-4f13-9b0f-7445a361ff9c",
    "outputId": "cf6b3ea0-ba59-44d6-9791-287046cee306"
   },
   "outputs": [
    {
     "name": "stdout",
     "output_type": "stream",
     "text": [
      "<class 'pandas.core.frame.DataFrame'>\n",
      "RangeIndex: 102058 entries, 0 to 102057\n",
      "Data columns (total 26 columns):\n",
      " #   Column                          Non-Null Count   Dtype  \n",
      "---  ------                          --------------   -----  \n",
      " 0   id                              102058 non-null  int64  \n",
      " 1   NAME                            101808 non-null  object \n",
      " 2   host id                         102058 non-null  int64  \n",
      " 3   host_identity_verified          101769 non-null  object \n",
      " 4   host name                       101654 non-null  object \n",
      " 5   neighbourhood group             102029 non-null  object \n",
      " 6   neighbourhood                   102042 non-null  object \n",
      " 7   lat                             102050 non-null  float64\n",
      " 8   long                            102050 non-null  float64\n",
      " 9   country                         101526 non-null  object \n",
      " 10  country code                    101927 non-null  object \n",
      " 11  instant_bookable                101953 non-null  object \n",
      " 12  cancellation_policy             101982 non-null  object \n",
      " 13  room type                       102058 non-null  object \n",
      " 14  Construction year               101844 non-null  float64\n",
      " 15  price                           102058 non-null  int64  \n",
      " 16  service fee                     102058 non-null  int64  \n",
      " 17  minimum nights                  101658 non-null  float64\n",
      " 18  number of reviews               101875 non-null  float64\n",
      " 19  last review                     86226 non-null   object \n",
      " 20  reviews per month               86240 non-null   float64\n",
      " 21  review rate number              101739 non-null  float64\n",
      " 22  calculated host listings count  101739 non-null  float64\n",
      " 23  availability 365                101610 non-null  float64\n",
      " 24  house_rules                     50216 non-null   object \n",
      " 25  license                         2 non-null       object \n",
      "dtypes: float64(9), int64(4), object(13)\n",
      "memory usage: 20.2+ MB\n"
     ]
    }
   ],
   "source": [
    "df.info()"
   ]
  },
  {
   "cell_type": "markdown",
   "id": "23eaae6e-6aad-42bd-ac65-8825dfec27eb",
   "metadata": {
    "id": "23eaae6e-6aad-42bd-ac65-8825dfec27eb"
   },
   "source": [
    "df is before imputation. After imputation, data will be named as 'data'."
   ]
  },
  {
   "cell_type": "markdown",
   "id": "98bd7921-0eb3-43ba-8971-df48b6075963",
   "metadata": {
    "id": "98bd7921-0eb3-43ba-8971-df48b6075963"
   },
   "source": [
    "range of reviews per month has to be in the range (0,30)."
   ]
  },
  {
   "cell_type": "code",
   "execution_count": 7,
   "id": "2b27125c-9805-4c0f-bfa3-a056b4cb3c29",
   "metadata": {
    "colab": {
     "base_uri": "https://localhost:8080/"
    },
    "id": "2b27125c-9805-4c0f-bfa3-a056b4cb3c29",
    "outputId": "cbaa76c3-b5af-4385-a84b-b06d3d3cf83e"
   },
   "outputs": [
    {
     "name": "stdout",
     "output_type": "stream",
     "text": [
      "<class 'pandas.core.frame.DataFrame'>\n",
      "RangeIndex: 102058 entries, 0 to 102057\n",
      "Data columns (total 26 columns):\n",
      " #   Column                          Non-Null Count   Dtype  \n",
      "---  ------                          --------------   -----  \n",
      " 0   id                              102058 non-null  int64  \n",
      " 1   NAME                            101808 non-null  object \n",
      " 2   host id                         102058 non-null  int64  \n",
      " 3   host_identity_verified          101769 non-null  object \n",
      " 4   host name                       101654 non-null  object \n",
      " 5   neighbourhood group             102029 non-null  object \n",
      " 6   neighbourhood                   102042 non-null  object \n",
      " 7   lat                             102050 non-null  float64\n",
      " 8   long                            102050 non-null  float64\n",
      " 9   country                         101526 non-null  object \n",
      " 10  country code                    101927 non-null  object \n",
      " 11  instant_bookable                101953 non-null  object \n",
      " 12  cancellation_policy             101982 non-null  object \n",
      " 13  room type                       102058 non-null  object \n",
      " 14  Construction year               101844 non-null  float64\n",
      " 15  price                           102058 non-null  int64  \n",
      " 16  service fee                     102058 non-null  int64  \n",
      " 17  minimum nights                  101658 non-null  float64\n",
      " 18  number of reviews               101875 non-null  float64\n",
      " 19  last review                     86226 non-null   object \n",
      " 20  reviews per month               86229 non-null   float64\n",
      " 21  review rate number              101739 non-null  float64\n",
      " 22  calculated host listings count  101739 non-null  float64\n",
      " 23  availability 365                101610 non-null  float64\n",
      " 24  house_rules                     50216 non-null   object \n",
      " 25  license                         2 non-null       object \n",
      "dtypes: float64(9), int64(4), object(13)\n",
      "memory usage: 20.2+ MB\n"
     ]
    }
   ],
   "source": [
    "# 2. reviews per month\n",
    "\n",
    "# copy the value before imputation\n",
    "data = df.copy()\n",
    "\n",
    "# if value of reviews per month is greater than 30, put it as na value.\n",
    "# Later, I am going to change it to median value.\n",
    "data.loc[data['reviews per month'] > 30, 'reviews per month']= np.nan\n",
    "data.info()\n",
    "\n",
    "# get median value\n",
    "reviews_per_month_median = data.loc[data['reviews per month'] > 0, 'reviews per month'].median()\n"
   ]
  },
  {
   "cell_type": "code",
   "execution_count": 8,
   "id": "30ae9828-5357-4c71-80c0-7544fcf2491c",
   "metadata": {
    "colab": {
     "base_uri": "https://localhost:8080/"
    },
    "id": "30ae9828-5357-4c71-80c0-7544fcf2491c",
    "outputId": "5443a80d-1ced-42b9-bf21-adaa1cb808da"
   },
   "outputs": [
    {
     "data": {
      "text/plain": [
       "(102058, 26)"
      ]
     },
     "execution_count": 8,
     "metadata": {},
     "output_type": "execute_result"
    }
   ],
   "source": [
    "data.shape"
   ]
  },
  {
   "cell_type": "markdown",
   "id": "1c6b23c5-4043-485c-8e9e-93c8b336a783",
   "metadata": {
    "id": "1c6b23c5-4043-485c-8e9e-93c8b336a783"
   },
   "source": [
    "Missing values have not been filled with median yet. Just put mis-typed value as NA."
   ]
  },
  {
   "cell_type": "code",
   "execution_count": 9,
   "id": "ed84d89f-4166-491d-b3d4-9c61d6f6c281",
   "metadata": {
    "id": "ed84d89f-4166-491d-b3d4-9c61d6f6c281"
   },
   "outputs": [],
   "source": [
    "# 3. minimum nights (to int)\n",
    "data.loc[data['minimum nights'] < 0, 'minimum nights'] = 0\n",
    "\n",
    "data['minimum nights'] = data['minimum nights'].fillna(0).astype(int)\n",
    "\n",
    "# get median value\n",
    "minumum_night_median = data.loc[data['minimum nights'] != 0, 'minimum nights'].median()\n",
    "\n",
    "data.loc[data['minimum nights'] == 0, 'minimum nights'] = minumum_night_median"
   ]
  },
  {
   "cell_type": "code",
   "execution_count": 10,
   "id": "61699f37-83a9-463c-b46d-dbb0bab90fab",
   "metadata": {
    "colab": {
     "base_uri": "https://localhost:8080/"
    },
    "id": "61699f37-83a9-463c-b46d-dbb0bab90fab",
    "outputId": "1f2b20ee-3aa8-4233-cceb-f362178eeea5"
   },
   "outputs": [
    {
     "data": {
      "text/plain": [
       "(102058, 26)"
      ]
     },
     "execution_count": 10,
     "metadata": {},
     "output_type": "execute_result"
    }
   ],
   "source": [
    "data.shape"
   ]
  },
  {
   "cell_type": "code",
   "execution_count": 11,
   "id": "a24c5064-df7a-4193-8a06-ada3b91f6dc0",
   "metadata": {
    "colab": {
     "base_uri": "https://localhost:8080/"
    },
    "id": "a24c5064-df7a-4193-8a06-ada3b91f6dc0",
    "outputId": "181e4c2d-4a13-4674-f2ac-8704d1c8a575"
   },
   "outputs": [
    {
     "data": {
      "text/plain": [
       "count    102058.000000\n",
       "mean          8.126291\n",
       "std          30.281670\n",
       "min           1.000000\n",
       "25%           2.000000\n",
       "50%           3.000000\n",
       "75%           5.000000\n",
       "max        5645.000000\n",
       "Name: minimum nights, dtype: float64"
      ]
     },
     "execution_count": 11,
     "metadata": {},
     "output_type": "execute_result"
    }
   ],
   "source": [
    "data['minimum nights'].describe()"
   ]
  },
  {
   "cell_type": "markdown",
   "id": "564b5062-b6c0-478f-b512-3b87fef46cea",
   "metadata": {
    "id": "564b5062-b6c0-478f-b512-3b87fef46cea"
   },
   "source": [
    "'minimum nights' can't be below 1. First, we fill negative value into 0. Then fill 0 with median value."
   ]
  },
  {
   "cell_type": "code",
   "execution_count": 12,
   "id": "34f98cca-9149-4cda-a953-480c7c0e6edc",
   "metadata": {
    "colab": {
     "base_uri": "https://localhost:8080/"
    },
    "id": "34f98cca-9149-4cda-a953-480c7c0e6edc",
    "outputId": "9297c889-531d-46c2-d4a8-8b9cdd21ab18"
   },
   "outputs": [
    {
     "data": {
      "text/plain": [
       "count    102058.000000\n",
       "mean        129.739619\n",
       "std         129.888095\n",
       "min           0.000000\n",
       "25%           0.000000\n",
       "50%          87.000000\n",
       "75%         248.000000\n",
       "max         365.000000\n",
       "Name: availability 365, dtype: float64"
      ]
     },
     "execution_count": 12,
     "metadata": {},
     "output_type": "execute_result"
    }
   ],
   "source": [
    "#    availability 365\n",
    "data.loc[data['availability 365'] < 0, 'availability 365'] = 0\n",
    "data.loc[data['availability 365'] > 365, 'availability 365'] = 0\n",
    "\n",
    "data['availability 365'] = data['availability 365'].fillna(0)\n",
    "\n",
    "# get median value\n",
    "availability_365_median = data.loc[data['availability 365'] != 0, 'availability 365'].median()\n",
    "\n",
    "data.loc[data['availability 365'] < 0, 'availability 365'] = availability_365_median\n",
    "data.loc[data['availability 365'] > 365, 'availability 365'] = availability_365_median\n",
    "\n",
    "data['availability 365'].describe()"
   ]
  },
  {
   "cell_type": "code",
   "execution_count": 13,
   "id": "7e67ac7a-249d-451e-8a05-6a7305e896bd",
   "metadata": {
    "colab": {
     "base_uri": "https://localhost:8080/"
    },
    "id": "7e67ac7a-249d-451e-8a05-6a7305e896bd",
    "outputId": "1e87dcfd-6a54-4ecc-9ef4-e43f19377a19"
   },
   "outputs": [
    {
     "data": {
      "text/plain": [
       "(102058, 26)"
      ]
     },
     "execution_count": 13,
     "metadata": {},
     "output_type": "execute_result"
    }
   ],
   "source": [
    "data.shape"
   ]
  },
  {
   "cell_type": "markdown",
   "id": "d0de0aeb-27fa-4851-9560-a04f0fd1d25b",
   "metadata": {
    "id": "d0de0aeb-27fa-4851-9560-a04f0fd1d25b"
   },
   "source": [
    "the range of 'availability 365' should be from 0 to 365."
   ]
  },
  {
   "cell_type": "markdown",
   "id": "56dfad33-e174-476b-b80c-01d9590a2d48",
   "metadata": {
    "id": "56dfad33-e174-476b-b80c-01d9590a2d48"
   },
   "source": [
    "# <div style=\"color:LimeGreen\">Data imputation</div>"
   ]
  },
  {
   "cell_type": "markdown",
   "id": "11a7173b-d373-4ad5-bdd4-e234bd9100c1",
   "metadata": {
    "id": "11a7173b-d373-4ad5-bdd4-e234bd9100c1"
   },
   "source": [
    "We are going to fill missing value with median value for numerical variables. For the categorical variables, we are going to put the value 'Undefined'."
   ]
  },
  {
   "cell_type": "code",
   "execution_count": 14,
   "id": "5d1a5eed-ed6e-42a7-83b0-4ebadf04cead",
   "metadata": {
    "id": "5d1a5eed-ed6e-42a7-83b0-4ebadf04cead"
   },
   "outputs": [],
   "source": [
    "# 4. Data imputation:\n",
    "#    numerical variable => median value\n",
    "data['number of reviews'] = data['number of reviews'].fillna(data['number of reviews'].median())\n",
    "data['reviews per month'] = data['reviews per month'].fillna(data['reviews per month'].median())\n",
    "data['review rate number'] = data['review rate number'].fillna(data['review rate number'].median())\n",
    "data['calculated host listings count'] = data['calculated host listings count'].fillna(data['calculated host listings count'].median())\n",
    "\n",
    "#    categorical variable => 'Undefined'\n",
    "data['host_identity_verified'] = data['host_identity_verified'].fillna('Undefined')\n",
    "data['neighbourhood group'] = data['neighbourhood group'].fillna('Undefined')\n",
    "data['neighbourhood'] = data['neighbourhood'].fillna('Undefined')\n",
    "data['country'] = data['country'].fillna('Undefined')\n",
    "data['country code'] = data['country code'].fillna('Undefined')\n",
    "data['instant_bookable'] = data['instant_bookable'].fillna('Undefined')\n",
    "data['cancellation_policy'] = data['cancellation_policy'].fillna('Undefined')\n",
    "data['last review'] = data['last review'].fillna('Undefined')"
   ]
  },
  {
   "cell_type": "code",
   "execution_count": 15,
   "id": "5e9259b8-2f50-45cf-a2d3-16788fff7cf5",
   "metadata": {
    "colab": {
     "base_uri": "https://localhost:8080/"
    },
    "id": "5e9259b8-2f50-45cf-a2d3-16788fff7cf5",
    "outputId": "cd072871-9b3e-4771-e282-2169be788817"
   },
   "outputs": [
    {
     "data": {
      "text/plain": [
       "(102058, 26)"
      ]
     },
     "execution_count": 15,
     "metadata": {},
     "output_type": "execute_result"
    }
   ],
   "source": [
    "data.shape"
   ]
  },
  {
   "cell_type": "code",
   "execution_count": 16,
   "id": "6efda56c-e066-488c-88bc-ef291e6d8a46",
   "metadata": {
    "colab": {
     "base_uri": "https://localhost:8080/"
    },
    "id": "6efda56c-e066-488c-88bc-ef291e6d8a46",
    "outputId": "908abfb0-d335-48c4-dfe5-a35f9e987719"
   },
   "outputs": [
    {
     "name": "stdout",
     "output_type": "stream",
     "text": [
      "<class 'pandas.core.frame.DataFrame'>\n",
      "RangeIndex: 102058 entries, 0 to 102057\n",
      "Data columns (total 26 columns):\n",
      " #   Column                          Non-Null Count   Dtype  \n",
      "---  ------                          --------------   -----  \n",
      " 0   id                              102058 non-null  int64  \n",
      " 1   NAME                            101808 non-null  object \n",
      " 2   host id                         102058 non-null  int64  \n",
      " 3   host_identity_verified          102058 non-null  object \n",
      " 4   host name                       101654 non-null  object \n",
      " 5   neighbourhood group             102058 non-null  object \n",
      " 6   neighbourhood                   102058 non-null  object \n",
      " 7   lat                             102050 non-null  float64\n",
      " 8   long                            102050 non-null  float64\n",
      " 9   country                         102058 non-null  object \n",
      " 10  country code                    102058 non-null  object \n",
      " 11  instant_bookable                102058 non-null  object \n",
      " 12  cancellation_policy             102058 non-null  object \n",
      " 13  room type                       102058 non-null  object \n",
      " 14  Construction year               101844 non-null  float64\n",
      " 15  price                           102058 non-null  int64  \n",
      " 16  service fee                     102058 non-null  int64  \n",
      " 17  minimum nights                  102058 non-null  int64  \n",
      " 18  number of reviews               102058 non-null  float64\n",
      " 19  last review                     102058 non-null  object \n",
      " 20  reviews per month               102058 non-null  float64\n",
      " 21  review rate number              102058 non-null  float64\n",
      " 22  calculated host listings count  102058 non-null  float64\n",
      " 23  availability 365                102058 non-null  float64\n",
      " 24  house_rules                     50216 non-null   object \n",
      " 25  license                         2 non-null       object \n",
      "dtypes: float64(8), int64(5), object(13)\n",
      "memory usage: 20.2+ MB\n"
     ]
    }
   ],
   "source": [
    "data.info()"
   ]
  },
  {
   "cell_type": "markdown",
   "id": "5d2570ad-9a31-4269-a83b-b4797b8beb1d",
   "metadata": {
    "id": "5d2570ad-9a31-4269-a83b-b4797b8beb1d"
   },
   "source": [
    "To get more insights, we create a new variable 'ratings' based on 'review rate number'."
   ]
  },
  {
   "cell_type": "code",
   "execution_count": 17,
   "id": "25996a51-a501-4151-8a49-3643663ef511",
   "metadata": {
    "colab": {
     "base_uri": "https://localhost:8080/"
    },
    "id": "25996a51-a501-4151-8a49-3643663ef511",
    "outputId": "98b33081-62cc-432b-e8ab-ca1b2a27816a"
   },
   "outputs": [
    {
     "name": "stdout",
     "output_type": "stream",
     "text": [
      "<class 'pandas.core.frame.DataFrame'>\n",
      "RangeIndex: 102058 entries, 0 to 102057\n",
      "Data columns (total 27 columns):\n",
      " #   Column                          Non-Null Count   Dtype  \n",
      "---  ------                          --------------   -----  \n",
      " 0   id                              102058 non-null  int64  \n",
      " 1   NAME                            101808 non-null  object \n",
      " 2   host id                         102058 non-null  int64  \n",
      " 3   host_identity_verified          102058 non-null  object \n",
      " 4   host name                       101654 non-null  object \n",
      " 5   neighbourhood group             102058 non-null  object \n",
      " 6   neighbourhood                   102058 non-null  object \n",
      " 7   lat                             102050 non-null  float64\n",
      " 8   long                            102050 non-null  float64\n",
      " 9   country                         102058 non-null  object \n",
      " 10  country code                    102058 non-null  object \n",
      " 11  instant_bookable                102058 non-null  object \n",
      " 12  cancellation_policy             102058 non-null  object \n",
      " 13  room type                       102058 non-null  object \n",
      " 14  Construction year               101844 non-null  float64\n",
      " 15  price                           102058 non-null  int64  \n",
      " 16  service fee                     102058 non-null  int64  \n",
      " 17  minimum nights                  102058 non-null  int64  \n",
      " 18  number of reviews               102058 non-null  float64\n",
      " 19  last review                     102058 non-null  object \n",
      " 20  reviews per month               102058 non-null  float64\n",
      " 21  review rate number              102058 non-null  float64\n",
      " 22  calculated host listings count  102058 non-null  float64\n",
      " 23  availability 365                102058 non-null  float64\n",
      " 24  house_rules                     50216 non-null   object \n",
      " 25  license                         2 non-null       object \n",
      " 26  ratings                         102058 non-null  object \n",
      "dtypes: float64(8), int64(5), object(14)\n",
      "memory usage: 21.0+ MB\n"
     ]
    }
   ],
   "source": [
    "# 5. Create New Variables: ratings\n",
    "data['ratings'] = 'Medium'\n",
    "data.loc[data['review rate number'] >=4, 'ratings'] = 'High'\n",
    "data.loc[data['review rate number'] <=2, 'ratings'] = 'low'\n",
    "data['ratings'].value_counts()\n",
    "data.info()"
   ]
  },
  {
   "cell_type": "markdown",
   "id": "f9a2f85c",
   "metadata": {},
   "source": [
    "# <div style=\"color:LimeGreen\">How do we treat the mislabed value in Availability 365?</div>"
   ]
  },
  {
   "cell_type": "code",
   "execution_count": 18,
   "id": "11915c3c",
   "metadata": {},
   "outputs": [
    {
     "data": {
      "image/png": "[encoded data removed]",
      "text/plain": [
       "<Figure size 1000x500 with 1 Axes>"
      ]
     },
     "metadata": {},
     "output_type": "display_data"
    }
   ],
   "source": [
    "def scale_available_365(x):\n",
    "    if x<0 or x>365:\n",
    "        return df['availability 365'].median()\n",
    "    else:\n",
    "        return x\n",
    "\n",
    "df['availability 365 scaled'] = df['availability 365'].apply(lambda x:scale_available_365(x))\n",
    "\n",
    "\n",
    "fig, ax = plt.subplots(figsize=(10,5))\n",
    "#x_scale_dens_plt = sns.kdeplot(data['availability 365'], bw_method=0.4).get_lines()[0].get_data()[0]\n",
    "dens_plt = sns.kdeplot(df['availability 365'], bw_method=0.2, legend='original values', color='red').get_lines()[0].get_data()[1]\n",
    "dens_plt_new = sns.kdeplot(df['availability 365 scaled'], bw_method=0.01, fill=True, legend='after handling', color='#2190a3').get_lines()[0].get_data()[1]\n",
    "ax.set_xlim(-350,800)\n",
    "ax.set_ylim(0,0.02)\n",
    "ax.legend(['Original values','After handling'])\n",
    "ax.spines['right'].set_visible(False)\n",
    "ax.spines['top'].set_visible(False)\n",
    "ax.set_facecolor(color='#f7f4ed')\n",
    "ax.set_title('Handling mislabeled in Availability 365 with Median value', x=0.3,y=1, fontsize=13, fontweight='bold',pad=20)\n",
    "ax.annotate(\"  Incorrect data entries\\n(Cannot be less than 0)\", xy=(-30, 0.0026), xytext=(-130, 0.0),\n",
    "            textcoords=\"offset points\", arrowprops=dict(color = \"black\", arrowstyle=\"->\",connectionstyle=\"arc3,rad=0.5\", lw=1.5), fontsize=8, c='black')\n",
    "ax.annotate(\"          Incorrect data entries\\n(Cannot be more than 365 in an year)\", xy=(380, 0.00129), xytext=(50, 0.0),\n",
    "            textcoords=\"offset points\", arrowprops=dict(color = \"black\", arrowstyle=\"->\",connectionstyle=\"arc3,rad=0.5\", lw=1.5), fontsize=8, c='black')\n",
    "plt.show()\n",
    "fig.savefig('handling_mislabeled')"
   ]
  },
  {
   "cell_type": "markdown",
   "id": "b0555e41",
   "metadata": {},
   "source": [
    "The density plot for Availability 365 shows that there is a presence of mislabeled data in the dataset. The range of values for the availability 365 column should be between 0 and 365 but there is a presence of negative values and values greater than 365. We have treated these data points with the median of this column. The red curve represents the density distribution of original dataset while the blue density plot represents the distribution after replacing the mislabeled data points with the median value. We could see that there are no data points that are less than 0 and more than 365 in the new density curve."
   ]
  },
  {
   "cell_type": "markdown",
   "id": "c1c020a5-be13-4b71-9693-784142fffdbb",
   "metadata": {
    "id": "c1c020a5-be13-4b71-9693-784142fffdbb"
   },
   "source": [
    "# <div style=\"color:LimeGreen\">Outliers</div>"
   ]
  },
  {
   "cell_type": "markdown",
   "id": "97eacca5-a58c-429c-b2c5-33c058bc808a",
   "metadata": {
    "id": "97eacca5-a58c-429c-b2c5-33c058bc808a"
   },
   "source": [
    "We are going to dealing with outliers before starting data visualization."
   ]
  },
  {
   "cell_type": "markdown",
   "id": "a945aa45-e1e2-49aa-972b-085e76800f98",
   "metadata": {
    "id": "a945aa45-e1e2-49aa-972b-085e76800f98"
   },
   "source": [
    "### minimum nights"
   ]
  },
  {
   "cell_type": "code",
   "execution_count": 19,
   "id": "c6573c5a-d6a3-43b3-8316-b1029d4ff5c2",
   "metadata": {
    "colab": {
     "base_uri": "https://localhost:8080/"
    },
    "id": "c6573c5a-d6a3-43b3-8316-b1029d4ff5c2",
    "outputId": "d4ec08f1-c3cb-426e-c3a5-b87c8fd7858e"
   },
   "outputs": [
    {
     "data": {
      "text/plain": [
       "(102058, 27)"
      ]
     },
     "execution_count": 19,
     "metadata": {},
     "output_type": "execute_result"
    }
   ],
   "source": [
    "data.shape"
   ]
  },
  {
   "cell_type": "code",
   "execution_count": 20,
   "id": "3cc88ca4-2fb5-490c-a65a-e506b7687ddc",
   "metadata": {
    "colab": {
     "base_uri": "https://localhost:8080/"
    },
    "id": "3cc88ca4-2fb5-490c-a65a-e506b7687ddc",
    "outputId": "34e3b2e6-63dd-411f-b9b4-874108742dc6"
   },
   "outputs": [
    {
     "name": "stdout",
     "output_type": "stream",
     "text": [
      "3.0\n",
      "9.5\n"
     ]
    }
   ],
   "source": [
    "# Calculate the IQR for the 'total_bill' column\n",
    "Q1 = data['minimum nights'].quantile(0.25)\n",
    "Q3 = data['minimum nights'].quantile(0.75)\n",
    "IQR = Q3 - Q1\n",
    "print(IQR)\n",
    "# Define the whisker positions based on IQR\n",
    "#lower_whisker = Q1 - 1.5 * IQR\n",
    "upper_whisker = (1.5 * IQR) + Q3\n",
    "\n",
    "print(upper_whisker)"
   ]
  },
  {
   "cell_type": "code",
   "execution_count": 21,
   "id": "a3aa8393-80bd-492b-9a1e-f4e8b8dd63e8",
   "metadata": {
    "colab": {
     "base_uri": "https://localhost:8080/"
    },
    "id": "a3aa8393-80bd-492b-9a1e-f4e8b8dd63e8",
    "outputId": "65742f20-ffd3-4f58-e84b-581f5b14ba0e"
   },
   "outputs": [
    {
     "data": {
      "text/plain": [
       "0.750       5.00\n",
       "0.850      16.00\n",
       "0.900      30.00\n",
       "0.990      50.00\n",
       "0.995      90.00\n",
       "0.999     349.43\n",
       "1.000    5645.00\n",
       "Name: minimum nights, dtype: float64"
      ]
     },
     "execution_count": 21,
     "metadata": {},
     "output_type": "execute_result"
    }
   ],
   "source": [
    "data['minimum nights'].quantile([0.75,0.85,0.9,0.99,0.995,0.999,1])"
   ]
  },
  {
   "cell_type": "code",
   "execution_count": 22,
   "id": "58731724-8963-4dc9-85b5-8506788059cf",
   "metadata": {
    "id": "58731724-8963-4dc9-85b5-8506788059cf"
   },
   "outputs": [],
   "source": [
    "newdat = data[data['minimum nights'] < 50]"
   ]
  },
  {
   "cell_type": "code",
   "execution_count": 23,
   "id": "9af26b5c-e074-4c05-b6c1-5fb31fcf2a4d",
   "metadata": {
    "colab": {
     "base_uri": "https://localhost:8080/"
    },
    "id": "9af26b5c-e074-4c05-b6c1-5fb31fcf2a4d",
    "outputId": "76f83299-4362-4cf1-ac76-5a4fbc5f0a82"
   },
   "outputs": [
    {
     "data": {
      "text/plain": [
       "(101009, 27)"
      ]
     },
     "execution_count": 23,
     "metadata": {},
     "output_type": "execute_result"
    }
   ],
   "source": [
    "newdat.shape"
   ]
  },
  {
   "cell_type": "markdown",
   "id": "579fb0f4-a76b-4363-a8c1-cb38e7f37414",
   "metadata": {
    "id": "579fb0f4-a76b-4363-a8c1-cb38e7f37414"
   },
   "source": [
    "### number of reviews"
   ]
  },
  {
   "cell_type": "code",
   "execution_count": 24,
   "id": "3dc87354-cb67-41b3-bfc3-8da9e89810bf",
   "metadata": {
    "colab": {
     "base_uri": "https://localhost:8080/"
    },
    "id": "3dc87354-cb67-41b3-bfc3-8da9e89810bf",
    "outputId": "d366df1b-11f1-4672-d3c3-8a133442bc0f"
   },
   "outputs": [
    {
     "name": "stdout",
     "output_type": "stream",
     "text": [
      "76.0\n"
     ]
    }
   ],
   "source": [
    "# Calculate the IQR for the 'total_bill' column\n",
    "Q1 = newdat['number of reviews'].quantile(0.25)\n",
    "Q3 = newdat['number of reviews'].quantile(0.75)\n",
    "IQR = Q3 - Q1\n",
    "\n",
    "# Define the whisker positions based on IQR\n",
    "#lower_whisker = Q1 - 1.5 * IQR\n",
    "upper_whisker = (1.5 * IQR) + Q3\n",
    "\n",
    "print(upper_whisker)"
   ]
  },
  {
   "cell_type": "code",
   "execution_count": 25,
   "id": "8505af7b-3761-4f97-bb35-5b8e40cf9615",
   "metadata": {
    "colab": {
     "base_uri": "https://localhost:8080/"
    },
    "id": "8505af7b-3761-4f97-bb35-5b8e40cf9615",
    "outputId": "64f511b9-13b5-44c0-eda6-b485963a97bc"
   },
   "outputs": [
    {
     "data": {
      "text/plain": [
       "0.750      31.000\n",
       "0.850      59.000\n",
       "0.900      82.000\n",
       "0.950     125.000\n",
       "0.990     232.000\n",
       "0.995     284.960\n",
       "0.999     419.984\n",
       "1.000    1024.000\n",
       "Name: number of reviews, dtype: float64"
      ]
     },
     "execution_count": 25,
     "metadata": {},
     "output_type": "execute_result"
    }
   ],
   "source": [
    "newdat['number of reviews'].quantile([0.75,0.85,0.9,0.95,0.99,0.995,0.999,1]) # 150"
   ]
  },
  {
   "cell_type": "code",
   "execution_count": 26,
   "id": "f5aa02a5-93ac-4807-b9bf-a4467e1ba3b9",
   "metadata": {
    "id": "f5aa02a5-93ac-4807-b9bf-a4467e1ba3b9"
   },
   "outputs": [],
   "source": [
    "newdat1 = newdat[newdat['number of reviews'] < 300]"
   ]
  },
  {
   "cell_type": "code",
   "execution_count": 27,
   "id": "93567186-fa4c-4be9-8c99-a253f2050f0d",
   "metadata": {
    "colab": {
     "base_uri": "https://localhost:8080/"
    },
    "id": "93567186-fa4c-4be9-8c99-a253f2050f0d",
    "outputId": "4f57b866-0c56-4528-a499-fbfcad695a03"
   },
   "outputs": [
    {
     "data": {
      "text/plain": [
       "(100592, 27)"
      ]
     },
     "execution_count": 27,
     "metadata": {},
     "output_type": "execute_result"
    }
   ],
   "source": [
    "newdat1.shape"
   ]
  },
  {
   "cell_type": "markdown",
   "id": "b38c6fbc-af06-4573-9cb7-30381a96981b",
   "metadata": {
    "id": "b38c6fbc-af06-4573-9cb7-30381a96981b"
   },
   "source": [
    "### reviews per month"
   ]
  },
  {
   "cell_type": "code",
   "execution_count": 28,
   "id": "d0b29db4-95e9-4ec8-8f80-1469f84928bf",
   "metadata": {
    "colab": {
     "base_uri": "https://localhost:8080/"
    },
    "id": "d0b29db4-95e9-4ec8-8f80-1469f84928bf",
    "outputId": "1c1e7fba-6fb1-4c89-e3f7-52904e650632"
   },
   "outputs": [
    {
     "name": "stdout",
     "output_type": "stream",
     "text": [
      "3.83\n"
     ]
    }
   ],
   "source": [
    "# Calculate the IQR for the 'total_bill' column\n",
    "Q1 = newdat1['reviews per month'].quantile(0.25)\n",
    "Q3 = newdat1['reviews per month'].quantile(0.75)\n",
    "IQR = Q3 - Q1\n",
    "\n",
    "# Define the whisker positions based on IQR\n",
    "#lower_whisker = Q1 - 1.5 * IQR\n",
    "upper_whisker = (1.5 * IQR) + Q3\n",
    "\n",
    "print(upper_whisker)"
   ]
  },
  {
   "cell_type": "code",
   "execution_count": 29,
   "id": "86fffb2d-8b1c-4f09-8966-c00500932638",
   "metadata": {
    "colab": {
     "base_uri": "https://localhost:8080/"
    },
    "id": "86fffb2d-8b1c-4f09-8966-c00500932638",
    "outputId": "7e52bae0-1a42-4bd4-f3a0-2981afb74ef6"
   },
   "outputs": [
    {
     "data": {
      "text/plain": [
       "0.750     1.70000\n",
       "0.850     2.61000\n",
       "0.900     3.24000\n",
       "0.950     4.25000\n",
       "0.990     6.54000\n",
       "0.995     7.65000\n",
       "0.999    10.17818\n",
       "1.000    27.95000\n",
       "Name: reviews per month, dtype: float64"
      ]
     },
     "execution_count": 29,
     "metadata": {},
     "output_type": "execute_result"
    }
   ],
   "source": [
    "newdat1['reviews per month'].quantile([0.75,0.85,0.9,0.95,0.99,0.995,0.999,1]) # 10"
   ]
  },
  {
   "cell_type": "code",
   "execution_count": 30,
   "id": "82542aff-829e-4f87-a621-32aa62a95df9",
   "metadata": {
    "id": "82542aff-829e-4f87-a621-32aa62a95df9"
   },
   "outputs": [],
   "source": [
    "newdat2 = newdat1[newdat1['reviews per month'] < 10]"
   ]
  },
  {
   "cell_type": "code",
   "execution_count": 31,
   "id": "bdc64d43-2b50-453e-8270-eee37dad3700",
   "metadata": {
    "colab": {
     "base_uri": "https://localhost:8080/"
    },
    "id": "bdc64d43-2b50-453e-8270-eee37dad3700",
    "outputId": "43711bff-9338-449a-ef99-b976e3956012"
   },
   "outputs": [
    {
     "data": {
      "text/plain": [
       "(100472, 27)"
      ]
     },
     "execution_count": 31,
     "metadata": {},
     "output_type": "execute_result"
    }
   ],
   "source": [
    "newdat2.shape"
   ]
  },
  {
   "cell_type": "markdown",
   "id": "60083619-0a5d-4c53-9e1a-8c808b61c33d",
   "metadata": {
    "id": "60083619-0a5d-4c53-9e1a-8c808b61c33d"
   },
   "source": [
    "### calculated host listings count"
   ]
  },
  {
   "cell_type": "code",
   "execution_count": 32,
   "id": "467f01ef-db0a-48fb-8e94-f69bb1085bfe",
   "metadata": {
    "colab": {
     "base_uri": "https://localhost:8080/"
    },
    "id": "467f01ef-db0a-48fb-8e94-f69bb1085bfe",
    "outputId": "471411e8-5718-4e20-d40a-cbe02c254a75"
   },
   "outputs": [
    {
     "name": "stdout",
     "output_type": "stream",
     "text": [
      "3.5\n"
     ]
    }
   ],
   "source": [
    "# Calculate the IQR for the 'total_bill' column\n",
    "Q1 = newdat2['calculated host listings count'].quantile(0.25)\n",
    "Q3 = newdat2['calculated host listings count'].quantile(0.75)\n",
    "IQR = Q3 - Q1\n",
    "\n",
    "# Define the whisker positions based on IQR\n",
    "#lower_whisker = Q1 - 1.5 * IQR\n",
    "upper_whisker = (1.5 * IQR) + Q3\n",
    "\n",
    "print(upper_whisker)"
   ]
  },
  {
   "cell_type": "code",
   "execution_count": 33,
   "id": "3c1dcb72-a090-4853-9d96-72c63b1a09d6",
   "metadata": {
    "colab": {
     "base_uri": "https://localhost:8080/"
    },
    "id": "3c1dcb72-a090-4853-9d96-72c63b1a09d6",
    "outputId": "ed85346d-eaee-4c22-e51a-5e8df4eb8d78"
   },
   "outputs": [
    {
     "data": {
      "text/plain": [
       "0.750      2.0\n",
       "0.850      4.0\n",
       "0.900      7.0\n",
       "0.950     29.0\n",
       "0.970     65.0\n",
       "0.980    102.0\n",
       "0.990    186.0\n",
       "0.995    327.0\n",
       "0.999    327.0\n",
       "1.000    332.0\n",
       "Name: calculated host listings count, dtype: float64"
      ]
     },
     "execution_count": 33,
     "metadata": {},
     "output_type": "execute_result"
    }
   ],
   "source": [
    "newdat2['calculated host listings count'].quantile([0.75,0.85,0.9,0.95,0.97,0.98,0.99,0.995,0.999,1]) # 10"
   ]
  },
  {
   "cell_type": "code",
   "execution_count": 34,
   "id": "b8fbaadb-68df-428f-b63c-98c9c68ad362",
   "metadata": {
    "id": "b8fbaadb-68df-428f-b63c-98c9c68ad362"
   },
   "outputs": [],
   "source": [
    "#newdat2[newdat2['calculated host listings count'] > 100]['neighbourhood group'].value_counts()"
   ]
  },
  {
   "cell_type": "code",
   "execution_count": 35,
   "id": "37f16aa0-17d1-484b-bf96-376cdceaf611",
   "metadata": {
    "colab": {
     "base_uri": "https://localhost:8080/"
    },
    "id": "37f16aa0-17d1-484b-bf96-376cdceaf611",
    "outputId": "e38aa28e-4e4c-4102-8819-b3eb93af7b16"
   },
   "outputs": [
    {
     "data": {
      "text/plain": [
       "(100472, 27)"
      ]
     },
     "execution_count": 35,
     "metadata": {},
     "output_type": "execute_result"
    }
   ],
   "source": [
    "#newdat3 = newdat2[newdat2['calculated host listings count'] < 100]\n",
    "newdat2.shape"
   ]
  },
  {
   "cell_type": "markdown",
   "id": "22db3917-237f-454e-859e-6b49717c38a1",
   "metadata": {
    "id": "22db3917-237f-454e-859e-6b49717c38a1"
   },
   "source": [
    "# <div style=\"color:Lime\">2. Relationship between variables</div>"
   ]
  },
  {
   "cell_type": "markdown",
   "id": "1f883d3d-4a59-4bf5-a5e0-9e2858f108a8",
   "metadata": {
    "id": "1f883d3d-4a59-4bf5-a5e0-9e2858f108a8"
   },
   "source": [
    "We are going to find out some relationship between variables. Heatmap will present p-value for each combination of numerical and categorical variable."
   ]
  },
  {
   "cell_type": "markdown",
   "id": "88c44258-add6-4f15-b52a-405cdba5d7b6",
   "metadata": {
    "id": "88c44258-add6-4f15-b52a-405cdba5d7b6"
   },
   "source": [
    "## Heatmap"
   ]
  },
  {
   "cell_type": "code",
   "execution_count": 37,
   "id": "9cb55f06-9747-4753-8a91-afe5bdd4907f",
   "metadata": {
    "colab": {
     "base_uri": "https://localhost:8080/",
     "height": 745
    },
    "id": "9cb55f06-9747-4753-8a91-afe5bdd4907f",
    "outputId": "fe664ce5-4d9c-4573-d1aa-c0a0c92de6e3"
   },
   "outputs": [
    {
     "data": {
      "image/png": "[encoded data removed]",
      "text/plain": [
       "<Figure size 1000x600 with 2 Axes>"
      ]
     },
     "metadata": {},
     "output_type": "display_data"
    },
    {
     "data": {
      "text/plain": [
       "<Figure size 640x480 with 0 Axes>"
      ]
     },
     "metadata": {},
     "output_type": "display_data"
    }
   ],
   "source": [
    "# Define the numerical variables and the categorical variables\n",
    "numerical_variables = ['availability 365', 'calculated host listings count', 'review rate number',\n",
    "                       'number of reviews', 'minimum nights', 'price', 'service fee', 'reviews per month']\n",
    "categorical_variables = ['ratings', 'neighbourhood group', 'neighbourhood', 'cancellation_policy',\n",
    "                         'instant_bookable', 'room type']\n",
    "\n",
    "\n",
    "# Custom function to calculate the p-value using t-test\n",
    "def print_pval(x, y):\n",
    "    return stats.ttest_ind(x, y).pvalue\n",
    "\n",
    "# Create a DataFrame and store the p-values for each combination of numerical and categorical variable\n",
    "pvalues = pd.DataFrame(index=numerical_variables, columns=categorical_variables)\n",
    "\n",
    "# Calculate p-values for each combination\n",
    "for n in numerical_variables:\n",
    "    for c in categorical_variables:\n",
    "        same_category_data = newdat2[newdat2[c] == newdat2[c].unique()[0]][n]\n",
    "        diff_category_data = newdat2[newdat2[c] != newdat2[c].unique()[0]][n]\n",
    "\n",
    "        # Calculate the p-value using the t-test between the two groups\n",
    "        pvalues.loc[n, c] = print_pval(same_category_data, diff_category_data)\n",
    "\n",
    "\n",
    "# Create a heatmap for p-values\n",
    "plt.figure(figsize=(10, 6))\n",
    "sns.heatmap(pvalues.astype(float), annot=True, cmap='YlOrRd', fmt='.4f', cbar_kws={'label': 'p-value'})\n",
    "plt.title('P-values for Each Numerical and Categorical Variable', pad=20, fontweight='bold', fontsize=20)\n",
    "plt.xlabel('Categorical Variable')\n",
    "plt.ylabel('Numerical Variable')\n",
    "plt.show()\n",
    "plt.savefig('p values coeff')"
   ]
  },
  {
   "cell_type": "markdown",
   "id": "6c75cef3-f0a3-44f1-bc79-af537143b03a",
   "metadata": {
    "id": "6c75cef3-f0a3-44f1-bc79-af537143b03a"
   },
   "source": [
    "When p-value is less than 0.05, we can say that two variables are significantly different from each other which means they have relations. As a result, neighbourhood group could be a great factor."
   ]
  },
  {
   "cell_type": "markdown",
   "id": "32a3b90b-9f8b-4a33-a69d-530002743446",
   "metadata": {
    "id": "32a3b90b-9f8b-4a33-a69d-530002743446"
   },
   "source": [
    "# <div style=\"color:LimeGreen\"> 3. Data Visualization</div>"
   ]
  },
  {
   "cell_type": "markdown",
   "id": "762491c4-91e3-4d5c-9b87-d4b6e3d94fa7",
   "metadata": {
    "id": "762491c4-91e3-4d5c-9b87-d4b6e3d94fa7"
   },
   "source": [
    "#### Neighbourhood group vs. calculated host listings count by room type"
   ]
  },
  {
   "cell_type": "code",
   "execution_count": 38,
   "id": "eeafab3c-2c70-40f2-8b2e-156a1cbae18d",
   "metadata": {
    "colab": {
     "base_uri": "https://localhost:8080/"
    },
    "id": "eeafab3c-2c70-40f2-8b2e-156a1cbae18d",
    "outputId": "f035f333-04fd-4989-dd57-3f38161f29bf"
   },
   "outputs": [
    {
     "data": {
      "text/plain": [
       "neighbourhood group\n",
       "Manhattan        42809\n",
       "Brooklyn         41118\n",
       "Queens           12923\n",
       "Bronx             2655\n",
       "Staten Island      940\n",
       "Name: count, dtype: int64"
      ]
     },
     "execution_count": 38,
     "metadata": {},
     "output_type": "execute_result"
    }
   ],
   "source": [
    "new_dat4 = newdat2[newdat2['neighbourhood group'] != 'Undefined']\n",
    "new_dat4['neighbourhood group'].value_counts()"
   ]
  },
  {
   "cell_type": "code",
   "execution_count": 39,
   "id": "e3e80dab-f1a7-4525-aa73-97a896b5459e",
   "metadata": {
    "colab": {
     "base_uri": "https://localhost:8080/"
    },
    "id": "e3e80dab-f1a7-4525-aa73-97a896b5459e",
    "outputId": "88f826fc-acd6-450b-ea07-6c0c480b5796"
   },
   "outputs": [
    {
     "data": {
      "text/plain": [
       "array(['Brooklyn', 'Manhattan', 'Queens', 'Bronx', 'Staten Island'],\n",
       "      dtype=object)"
      ]
     },
     "execution_count": 39,
     "metadata": {},
     "output_type": "execute_result"
    }
   ],
   "source": [
    "new_dat4['neighbourhood group'].unique()"
   ]
  },
  {
   "cell_type": "code",
   "execution_count": 40,
   "id": "466927b2-f2f9-44ff-b0d7-63448c5f6185",
   "metadata": {
    "colab": {
     "base_uri": "https://localhost:8080/"
    },
    "id": "466927b2-f2f9-44ff-b0d7-63448c5f6185",
    "outputId": "f9fbe22c-f486-4e33-c91c-7ff4070260dc"
   },
   "outputs": [
    {
     "data": {
      "text/plain": [
       "(100445, 27)"
      ]
     },
     "execution_count": 40,
     "metadata": {},
     "output_type": "execute_result"
    }
   ],
   "source": [
    "new_dat4.shape"
   ]
  },
  {
   "cell_type": "code",
   "execution_count": 41,
   "id": "e6de6508-eb4a-4d5b-bee2-bff7173aa763",
   "metadata": {
    "colab": {
     "base_uri": "https://localhost:8080/",
     "height": 614
    },
    "id": "e6de6508-eb4a-4d5b-bee2-bff7173aa763",
    "outputId": "e506a776-b348-4939-e397-f48cf83fa393"
   },
   "outputs": [
    {
     "name": "stderr",
     "output_type": "stream",
     "text": [
      "/var/folders/z9/xt06stc96tq72g3x5dtf89m80000gn/T/ipykernel_10298/790863554.py:6: FutureWarning: \n",
      "\n",
      "The `ci` parameter is deprecated. Use `errorbar=None` for the same effect.\n",
      "\n",
      "  ax = sns.barplot(x='neighbourhood group', y='calculated host listings count', hue='room type', data=new_dat4, ci=None, palette=colors)\n"
     ]
    },
    {
     "data": {
      "text/plain": [
       "Text(0, 0.5, 'Mean of Calculated Host Listings Count')"
      ]
     },
     "execution_count": 41,
     "metadata": {},
     "output_type": "execute_result"
    },
    {
     "data": {
      "image/png": "[encoded data removed]",
      "text/plain": [
       "<Figure size 1000x500 with 1 Axes>"
      ]
     },
     "metadata": {},
     "output_type": "display_data"
    }
   ],
   "source": [
    "colors = ['#1f78b4', '#33a02c', '#ff7f00', '#6a3d9a']\n",
    "\n",
    "\n",
    "# Draw plots\n",
    "plt.figure(figsize=(10, 5))\n",
    "ax = sns.barplot(x='neighbourhood group', y='calculated host listings count', hue='room type', data=new_dat4, ci=None, palette=colors)\n",
    "\n",
    "\n",
    "# set xticks\n",
    "plt.xticks(range(len(new_dat4['neighbourhood group'].unique())), new_dat4['neighbourhood group'].unique())\n",
    "\n",
    "# Change facecolor\n",
    "ax.set_facecolor('#F0F0F0')\n",
    "\n",
    "# Move legend\n",
    "plt.legend(loc='upper right')\n",
    "\n",
    "# Remove frames\n",
    "sns.despine(top=True,right=True)\n",
    "\n",
    "# add text box\n",
    "text = \"Manhattan's entire home/apt \\nhas the highest host listing counts.\"  # The text you want to display in the text box\n",
    "x_value = 1\n",
    "y_value = 19\n",
    "plt.annotate(text, xy=(x_value, y_value), xytext=(x_value + 0.2, y_value - 1),\n",
    "             arrowprops=dict(facecolor='black', shrink=0.09))\n",
    "\n",
    "\n",
    "ax.set_facecolor(color='#f7f4ed')\n",
    "ax.set_title(\"Host listing count vs Neighbourhood group by Room Type\", x=0.3,y=1, fontsize=13, fontweight='bold',pad=20)\n",
    "ax.set_ylabel(\"Mean of Calculated Host Listings Count\")\n",
    "\n",
    "\n",
    "#plt.axvline(x=2.5, linestyle='dotted', color='red')\n",
    "#bbox_props = dict(boxstyle=\"square,pad=0.3\", fc='white', ec='black', lw=1.0)\n",
    "#plt.text(x_value + 2.2, y_value + 8, text, ha=\"center\", va=\"center\", bbox=bbox_props, color= 'black', size = 9)"
   ]
  },
  {
   "cell_type": "markdown",
   "id": "770d9354-f128-4c46-9a5a-7608bfb98bb6",
   "metadata": {
    "id": "770d9354-f128-4c46-9a5a-7608bfb98bb6"
   },
   "source": [
    "Brooklyn, Manhattan, and Queens are tourist region. Therefore, these region have relatively high demand of hotel rooms. On the other hand, Bronx and Staten Island are local area. Those areas have more availability in private room and shared room. It's hard to find hotel accomodation in those regions. Business people should focus on hotel accomodation in Brooklyn, Manhattan, and Queens, and put more efforts on how to flow in more private host because Bronx and Staten Island have more demand in private room and shared room."
   ]
  }
 ],
 "metadata": {
  "colab": {
   "provenance": []
  },
  "kernelspec": {
   "display_name": "Python 3 (ipykernel)",
   "language": "python",
   "name": "python3"
  },
  "language_info": {
   "codemirror_mode": {
    "name": "ipython",
    "version": 3
   },
   "file_extension": ".py",
   "mimetype": "text/x-python",
   "name": "python",
   "nbconvert_exporter": "python",
   "pygments_lexer": "ipython3",
   "version": "3.10.12"
  }
 },
 "nbformat": 4,
 "nbformat_minor": 5
}
